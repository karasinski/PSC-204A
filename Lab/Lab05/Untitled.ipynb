{
 "cells": [
  {
   "cell_type": "code",
   "execution_count": 2,
   "metadata": {
    "collapsed": false
   },
   "outputs": [
    {
     "name": "stdout",
     "output_type": "stream",
     "text": [
      "  Multiple Comparison of Means - Tukey HSD,FWER=0.05 \n",
      "=====================================================\n",
      "  group1      group2   meandiff  lower  upper  reject\n",
      "-----------------------------------------------------\n",
      "b'medical'  b'mental'    1.5     0.3217 2.6783  True \n",
      "b'medical' b'physical'   1.0    -0.1783 2.1783 False \n",
      "b'mental'  b'physical'   -0.5   -1.6783 0.6783 False \n",
      "-----------------------------------------------------\n",
      "  Multiple Comparison of Means - Tukey HSD,FWER=0.05 \n",
      "=====================================================\n",
      "  group1      group2   meandiff  lower  upper  reject\n",
      "-----------------------------------------------------\n",
      "b'medical'  b'mental'    1.5     0.3217 2.6783  True \n",
      "b'medical' b'physical'   1.0    -0.1783 2.1783 False \n",
      "b'mental'  b'physical'   -0.5   -1.6783 0.6783 False \n",
      "-----------------------------------------------------\n"
     ]
    }
   ],
   "source": [
    "import numpy as np\n",
    "from scipy import stats\n",
    "\n",
    "from statsmodels.stats.multicomp import (pairwise_tukeyhsd,\n",
    "                                         MultiComparison)\n",
    "\n",
    "dta2 = np.rec.array([\n",
    "(  1,   'mental',  2 ),\n",
    "(  2,   'mental',  2 ),\n",
    "(  3,   'mental',  3 ),\n",
    "(  4,   'mental',  4 ),\n",
    "(  5,   'mental',  4 ),\n",
    "(  6,   'mental',  5 ),\n",
    "(  7,   'mental',  3 ),\n",
    "(  8,   'mental',  4 ),\n",
    "(  9,   'mental',  4 ),\n",
    "( 10,   'mental',  4 ),\n",
    "( 11, 'physical',  4 ),\n",
    "( 12, 'physical',  4 ),\n",
    "( 13, 'physical',  3 ),\n",
    "( 14, 'physical',  5 ),\n",
    "( 15, 'physical',  4 ),\n",
    "( 16, 'physical',  1 ),\n",
    "( 17, 'physical',  1 ),\n",
    "( 18, 'physical',  2 ),\n",
    "( 19, 'physical',  3 ),\n",
    "( 20, 'physical',  3 ),\n",
    "( 21,  'medical',  1 ),\n",
    "( 22,  'medical',  2 ),\n",
    "( 23,  'medical',  2 ),\n",
    "( 24,  'medical',  2 ),\n",
    "( 25,  'medical',  3 ),\n",
    "( 26,  'medical',  2 ),\n",
    "( 27,  'medical',  3 ),\n",
    "( 28,  'medical',  1 ),\n",
    "( 29,  'medical',  3 ),\n",
    "( 30,  'medical',  1 )], dtype=[('idx', '<i4'),\n",
    "                                ('Treatment', '|S8'),\n",
    "                                ('StressReduction', '<i4')])\n",
    "\n",
    "res2 = pairwise_tukeyhsd(dta2['StressReduction'], dta2['Treatment'])\n",
    "print(res2)\n",
    "\n",
    "mod = MultiComparison(dta2['StressReduction'], dta2['Treatment'])\n",
    "print(mod.tukeyhsd())"
   ]
  },
  {
   "cell_type": "code",
   "execution_count": 5,
   "metadata": {
    "collapsed": false
   },
   "outputs": [
    {
     "name": "stdout",
     "output_type": "stream",
     "text": [
      "Test Multiple Comparison ttest_rel \n",
      "FWER=0.05 method=Holm\n",
      "alphacSidak=0.02, alphacBonf=0.017\n",
      "======================================================\n",
      "  group1      group2     stat   pval  pval_corr reject\n",
      "------------------------------------------------------\n",
      "b'medical'  b'mental'  -4.0249 0.003    0.009    True \n",
      "b'medical' b'physical' -1.9365 0.0848   0.1696  False \n",
      "b'mental'  b'physical'  0.8321 0.4269   0.4269  False \n",
      "------------------------------------------------------\n",
      "Test Multiple Comparison ttest_rel \n",
      "FWER=0.05 method=b\n",
      "alphacSidak=0.02, alphacBonf=0.017\n",
      "======================================================\n",
      "  group1      group2     stat   pval  pval_corr reject\n",
      "------------------------------------------------------\n",
      "b'medical'  b'mental'  -4.0249 0.003    0.009    True \n",
      "b'medical' b'physical' -1.9365 0.0848   0.2544  False \n",
      "b'mental'  b'physical'  0.8321 0.4269    1.0    False \n",
      "------------------------------------------------------\n",
      "Test Multiple Comparison ttest_ind \n",
      "FWER=0.05 method=b\n",
      "alphacSidak=0.02, alphacBonf=0.017\n",
      "======================================================\n",
      "  group1      group2     stat   pval  pval_corr reject\n",
      "------------------------------------------------------\n",
      "b'medical'  b'mental'   -3.737 0.0015   0.0045   True \n",
      "b'medical' b'physical' -2.0226 0.0582   0.1747  False \n",
      "b'mental'  b'physical'  0.9583 0.3506    1.0    False \n",
      "------------------------------------------------------\n"
     ]
    }
   ],
   "source": [
    "from scipy import stats\n",
    "rtp = mod.allpairtest(stats.ttest_rel, method='Holm')\n",
    "print(rtp[0])\n",
    "\n",
    "print(mod.allpairtest(stats.ttest_rel, method='b')[0])\n",
    "print(mod.allpairtest(stats.ttest_ind, method='b')[0])"
   ]
  },
  {
   "cell_type": "code",
   "execution_count": null,
   "metadata": {
    "collapsed": true
   },
   "outputs": [],
   "source": []
  }
 ],
 "metadata": {
  "kernelspec": {
   "display_name": "Python 3",
   "language": "python",
   "name": "python3"
  },
  "language_info": {
   "codemirror_mode": {
    "name": "ipython",
    "version": 3
   },
   "file_extension": ".py",
   "mimetype": "text/x-python",
   "name": "python",
   "nbconvert_exporter": "python",
   "pygments_lexer": "ipython3",
   "version": "3.5.0"
  }
 },
 "nbformat": 4,
 "nbformat_minor": 0
}
