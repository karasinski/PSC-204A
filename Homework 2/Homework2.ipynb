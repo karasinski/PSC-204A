{
 "cells": [
  {
   "cell_type": "markdown",
   "metadata": {},
   "source": [
    "### PSC 204a\tFall 2015\tHomework \\#2\n",
    "#### John Karasinski"
   ]
  },
  {
   "cell_type": "markdown",
   "metadata": {
    "collapsed": true
   },
   "source": [
    "#### 1) What are the formulas for SD? Describe in your own words what standard deviation describes in a distribution.\n",
    "\n",
    "\n",
    "If the 'biased sample deviation' is used to compute an estimate of the population's standard deviation,\n",
    "\n",
    "$$\n",
    "s =\\sqrt{\\frac{1}{N} \\sum_{i=1}^N (x_i - \\overline{x})^2}.\n",
    "$$\n",
    "\n",
    "An 'unbiased standard deviation' is given by applying Bessel's correction, using N−1 instead of N to yield,\n",
    "$$\n",
    "s = \\sqrt{\\frac{1}{N-1} \\sum_{i=1}^N (x_i - \\overline{x})^2}.\n",
    "$$\n",
    "\n",
    "where $N$ is the number of individuals in the sample, $x_i$ is an individual sample value, and $\\overline{x}$ is the sample mean. Unless specifically mentioned below, the unbiased standard deviation has been used.\n",
    "\n",
    "\n",
    "The standard deviation is a statistic that describes how tightly clustered the members of the distribution are clustered around the distribution's mean. A large standard deviation, for instance, indicates that members of the distribution have a large amount of spread from the mean. A small standard deviation, on the other hand, indicates that the members of the distribution are tightly located around the mean. A standard deviation of 0 indicates that all members of the distribution have the same value (which is also the mean)."
   ]
  },
  {
   "cell_type": "markdown",
   "metadata": {},
   "source": [
    "#### 2) What expectations do we have given the central limit theorem (i.e., what are the claims of the central limit theorem)? In your own words explain what these expectations mean and why they make sense conceptually.\n",
    "\n",
    "\n",
    "The central limit theorem states that the addition of a large enough number of random variables, regardless of their underlying distribution, will lead to a normal distribution. The mean of the resultant normal distribution will be the mean of the original underlying distribution, and the standard deviation of the resultating normal distribution is equal to the standard deviation of the original underlying distribution divided by the square-root of N.\n",
    "\n",
    "This makes sense conceptually because it precisely describes how we expect measurements work in experiments. In experiments we attempt to measure some unknown value, but instead find the unknown value plus some amount of measurement error. Repeated measurements will again return the unknown value plus some other random measurement error. When we take many measurements like this and take the average, we find a result that is as close to the actual unknown value as we can measure.\n",
    "\n",
    "#### 3) a. Create a histogram of weight. Create a unique figure title and label the x-axis."
   ]
  },
  {
   "cell_type": "code",
   "execution_count": 1,
   "metadata": {
    "collapsed": true
   },
   "outputs": [],
   "source": [
    "%matplotlib inline\n",
    "import pandas as pd\n",
    "import matplotlib.pyplot as plt\n",
    "\n",
    "df = pd.read_csv('HW01Data.csv')"
   ]
  },
  {
   "cell_type": "code",
   "execution_count": 2,
   "metadata": {
    "collapsed": false
   },
   "outputs": [
    {
     "data": {
      "image/png": "[encoded data removed]",
      "text/plain": [
       "<matplotlib.figure.Figure at 0x10f62fa58>"
      ]
     },
     "metadata": {},
     "output_type": "display_data"
    }
   ],
   "source": [
    "# A historgram is created by passing in kind='hist' to the plot function\n",
    "df.plot(kind='hist', y='weight_lbs', legend=False)\n",
    "plt.title('Weights of Sample Population')\n",
    "plt.xlabel('Weight (lb)')\n",
    "plt.show()"
   ]
  },
  {
   "cell_type": "markdown",
   "metadata": {},
   "source": [
    "This plot suggests that the data is bimodal. A likely cause of this bimodal distribution is that it's actually the sum of two distributions, one for males and one for females. As such, the mean and median's marked in the graph are likely not representitive of either the average male or the average female.\n",
    "\n",
    "#### b. Create a density plot of height. Create a unique figure title and label the x-axis. Add a solid black vertical line to the plot at the mean value of height. Add a dotted black vertical line to the plot at the median value of height. *Make sure you look at the lines() function syntax to learn about the argument for line types."
   ]
  },
  {
   "cell_type": "code",
   "execution_count": 3,
   "metadata": {
    "collapsed": false
   },
   "outputs": [
    {
     "data": {
      "image/png": "[encoded data removed]",
      "text/plain": [
       "<matplotlib.figure.Figure at 0x10f6886d8>"
      ]
     },
     "metadata": {},
     "output_type": "display_data"
    }
   ],
   "source": [
    "# A density plot is created by passing in kind='kde', which stands for kernel density estimation\n",
    "df.plot(kind='kde', y='height_in', legend=False)\n",
    "plt.title('Height Distribution of Sample Population')\n",
    "plt.xlabel('Height (in)')\n",
    "\n",
    "# The axvline function draws a vertical line on the current plot axis\n",
    "plt.axvline(df.height_in.mean(), color='black')\n",
    "plt.axvline(df.height_in.median(), color='black', linestyle='dotted')\n",
    "plt.show()"
   ]
  },
  {
   "cell_type": "markdown",
   "metadata": {},
   "source": [
    "Here we again see a bimodal distribution due to differences in gender. While the mean and median are therefore accurate for the population, they're not necessarily representative of the subgroups in the population.\n",
    "\n",
    "#### 4) Calculate the mean, median, variance, minimum, and maximum values of BMI for each unique condition of biological sex and education completed—you’ll need to calculate BMI again using the formula provided in HW01 (if you saved your syntax you can copy and paste that). Summarize these values in a table. Comment on how these groups compare on these statistics."
   ]
  },
  {
   "cell_type": "code",
   "execution_count": 4,
   "metadata": {
    "collapsed": false
   },
   "outputs": [
    {
     "name": "stdout",
     "output_type": "stream",
     "text": [
      "                        mean     median       var        min        max\n",
      "biosex ed_cmplt                                                        \n",
      "FEMALE College2YR  23.013821  22.371433  3.908364  20.281319  25.973420\n",
      "       College4YR  22.838584  22.979353  5.056110  18.099274  27.748731\n",
      "       HS          22.728031  22.732402  8.640603  18.147567  26.777365\n",
      "       MA          22.091436  22.292065  6.016555  16.932930  26.235072\n",
      "       PhD         23.480749  24.045792  6.674042  17.626489  27.536907\n",
      "MALE   College2YR  22.419280  22.168032  5.757190  18.430776  30.227456\n",
      "       College4YR  22.038994  21.949803  2.498297  19.095423  24.799519\n",
      "       HS          23.106290  22.723011  6.514539  16.839152  28.096583\n",
      "       MA          23.206360  24.089050  5.899063  17.711650  26.195594\n",
      "       PhD         22.745859  22.467367  3.279681  18.260705  27.878717\n"
     ]
    }
   ],
   "source": [
    "df['bmi'] = df.apply(lambda x: (x['weight_lbs']/x['height_in']**2) * 703, axis=1)\n",
    "print(df.groupby(('biosex', 'ed_cmplt')).bmi.agg(['mean', 'median', 'var', 'min', 'max']))"
   ]
  },
  {
   "cell_type": "markdown",
   "metadata": {},
   "source": [
    "There does not appear to be any obvious correlations between BMI and a combination between gender and the level of education completed. While various stastical fluctuations exist, each group has a very small N. Due to this small N, these values have fairly large error bars attached to them, making it hard to draw real conclusions.\n",
    "\n",
    "#### 5) a. Identify the rows with the maximum and minimum BMI values. What are the row numbers and the maximum and minimum BMI values?"
   ]
  },
  {
   "cell_type": "code",
   "execution_count": 5,
   "metadata": {
    "collapsed": false
   },
   "outputs": [
    {
     "name": "stdout",
     "output_type": "stream",
     "text": [
      "Row Numbers\n",
      "Max: 62, Min: 71\n",
      "\n",
      "Values\n",
      "Max: 30.23, Min: 16.84\n"
     ]
    }
   ],
   "source": [
    "# Note that R is 1 based and Python is 0 based\n",
    "print('Row Numbers\\nMax: {}, Min: {}'.format(df.bmi.idxmax(), df.bmi.idxmin()))\n",
    "\n",
    "# Check to make sure this seems reasonable\n",
    "print('\\nValues\\nMax: {:.2f}, Min: {:.2f}'.format(df.xs(df.bmi.idxmax()).bmi, \n",
    "                                                  df.xs(df.bmi.idxmin()).bmi))"
   ]
  },
  {
   "cell_type": "markdown",
   "metadata": {},
   "source": [
    "#### b. Standardize BMI values so that they have a mean of zero and standard deviation of one. Now identify the rows with the maximum and minimum standardized BMI values. What are the row numbers and what are the maximum and minimum standardized BMI values?"
   ]
  },
  {
   "cell_type": "code",
   "execution_count": 6,
   "metadata": {
    "collapsed": false
   },
   "outputs": [
    {
     "name": "stdout",
     "output_type": "stream",
     "text": [
      "Mean: -6.118138899651078e-16, STD: 0.9999999999999954\n",
      "Max: 62, Min: 71\n"
     ]
    }
   ],
   "source": [
    "df['standard_bmi'] = (df.bmi - df.bmi.mean()) / df.bmi.std()\n",
    "\n",
    "# Check that we have standardized correctly\n",
    "print('Mean: {}, STD: {}'.format(df.standard_bmi.mean(), df.standard_bmi.std()))\n",
    "\n",
    "# Note that R is 1 based and Python is 0 based\n",
    "print('Max: {}, Min: {}'.format(df.standard_bmi.idxmax(), df.standard_bmi.idxmin()))"
   ]
  },
  {
   "cell_type": "markdown",
   "metadata": {},
   "source": [
    "#### c. Standardize BMI values so that the mean is 100 and the standard deviation is 15. Identify the rows with the maximum and minimum standardized BMI values. What are the row numbers and what are the maximum and minimum standardized BMI values."
   ]
  },
  {
   "cell_type": "code",
   "execution_count": 7,
   "metadata": {
    "collapsed": false
   },
   "outputs": [
    {
     "name": "stdout",
     "output_type": "stream",
     "text": [
      "Mean: 100.0, STD: 14.999999999999867\n",
      "Max: 62, Min: 71\n"
     ]
    }
   ],
   "source": [
    "df['strange_bmi'] = 100 + (df.bmi - df.bmi.mean()) / (1/15 * df.bmi.std())\n",
    "\n",
    "# Check that we have standardized correctly\n",
    "print('Mean: {}, STD: {}'.format(df.strange_bmi.mean(), df.strange_bmi.std()))\n",
    "\n",
    "# Note that R is 1 based and Python is 0 based\n",
    "print('Max: {}, Min: {}'.format(df.strange_bmi.idxmax(), df.strange_bmi.idxmin()))"
   ]
  },
  {
   "cell_type": "markdown",
   "metadata": {},
   "source": [
    "#### d. What conclusions can you draw about linear transformations of data based on your answers to the preceding questions (i.e., 5a-5c)?\n",
    "\n",
    "Linear transformations of data will generally not change the location of the maximum and minimum value locations, but can allow for the manipulation of calculated aggregations, such as the mean and the standard deviation."
   ]
  }
 ],
 "metadata": {
  "kernelspec": {
   "display_name": "Python 3",
   "language": "python",
   "name": "python3"
  },
  "language_info": {
   "codemirror_mode": {
    "name": "ipython",
    "version": 3
   },
   "file_extension": ".py",
   "mimetype": "text/x-python",
   "name": "python",
   "nbconvert_exporter": "python",
   "pygments_lexer": "ipython3",
   "version": "3.5.0"
  }
 },
 "nbformat": 4,
 "nbformat_minor": 0
}
