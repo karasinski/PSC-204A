{
 "cells": [
  {
   "cell_type": "code",
   "execution_count": 1,
   "metadata": {
    "collapsed": true
   },
   "outputs": [],
   "source": [
    "%matplotlib inline\n",
    "import pandas as pd\n",
    "import matplotlib.pyplot as plt"
   ]
  },
  {
   "cell_type": "markdown",
   "metadata": {
    "collapsed": true
   },
   "source": [
    "#### 1) What are the formulas for SD? Describe in your own words what standard deviation describes in a distribution.\n",
    "\n",
    "If the 'biased sample variance' (the second central moment of the sample, which is a downward-biased estimate of the population variance) is used to compute an estimate of the population's standard deviation, the result is\n",
    "\n",
    "$$\n",
    "s_N =\\sqrt{ \\frac{1}{N} \\sum_{i=1}^N (x_i - \\overline{x})^2}.\n",
    "$$\n",
    "\n",
    "Here taking the square root introduces further downward bias due to the square root being a concave function. The bias in the variance is easily corrected, but the bias from the square root is more difficult to correct, and depends on the distribution in question.\n",
    "\n",
    "An unbiased estimator for the variance is given by applying Bessel's correction, using N−1 instead of N to yield the 'unbiased sample variance,' denoted $s^2$:\n",
    "$s^2 = \\frac{1}{N-1} \\sum_{i=1}^N (x_i - \\overline{x})^2.$\n",
    "This estimator is unbiased if the variance exists and the sample values are drawn independently with replacement. N−1 corresponds to the number of degrees of freedom in the vector of deviations from the mean, $\\scriptstyle(x_1-\\overline{x},\\; \\dots,\\; x_n-\\overline{x}).$\n",
    "\n",
    "Taking square roots reintroduces bias (because the square root is a nonlinear function, which does not commute with the expectation), yielding the corrected sample standard deviation, denoted by s:\n",
    "$$s = \\sqrt{\\frac{1}{N-1} \\sum_{i=1}^N (x_i - \\overline{x})^2}.$$\n",
    "As explained above, while $s^2$ is an unbiased estimator for the population variance, s is still a biased estimator for the population standard deviation, though markedly less biased than the uncorrected sample standard deviation. The bias is still significant for small samples (N less than 10), and also drops off as 1/N as sample size increases. This estimator is commonly used and generally known simply as the sample standard deviation."
   ]
  },
  {
   "cell_type": "markdown",
   "metadata": {},
   "source": [
    "#### 2) What expectations do we have given the central limit theorem (i.e., what are the claims of the central limit theorem)? In your own words explain what these expectations mean and why they make sense conceptually.\n",
    "\n",
    "Words words words."
   ]
  },
  {
   "cell_type": "markdown",
   "metadata": {},
   "source": [
    "#### 3) a. Create a histogram of weight. Create a unique figure title and label the x-axis."
   ]
  },
  {
   "cell_type": "code",
   "execution_count": 2,
   "metadata": {
    "collapsed": false
   },
   "outputs": [
    {
     "data": {
      "text/plain": [
       "<matplotlib.lines.Line2D at 0x109188390>"
      ]
     },
     "execution_count": 2,
     "metadata": {},
     "output_type": "execute_result"
    },
    {
     "data": {
      "image/png": "[encoded data removed]",
      "text/plain": [
       "<matplotlib.figure.Figure at 0x109188518>"
      ]
     },
     "metadata": {},
     "output_type": "display_data"
    }
   ],
   "source": [
    "df = pd.read_csv('HW01Data.csv')\n",
    "df.plot(kind='hist', y='weight_lbs', legend=False)\n",
    "plt.title('Weight in lbs')\n",
    "plt.xlabel('Weight (lb)')\n",
    "plt.axvline(df.weight_lbs.mean(), color='black')\n",
    "plt.axvline(df.weight_lbs.median(), color='black', linestyle='--')"
   ]
  },
  {
   "cell_type": "markdown",
   "metadata": {},
   "source": [
    "#### b. Create a density plot of height. Create a unique figure title and label the x-axis. Add a solid black vertical line to the plot at the mean value of height. Add a dotted black vertical line to the plot at the median value of height. *Make sure you look at the lines() function syntax to learn about the argument for line types."
   ]
  },
  {
   "cell_type": "code",
   "execution_count": 3,
   "metadata": {
    "collapsed": false
   },
   "outputs": [
    {
     "data": {
      "text/plain": [
       "<matplotlib.lines.Line2D at 0x109188ac8>"
      ]
     },
     "execution_count": 3,
     "metadata": {},
     "output_type": "execute_result"
    },
    {
     "data": {
      "image/png": "[encoded data removed]",
      "text/plain": [
       "<matplotlib.figure.Figure at 0x109290438>"
      ]
     },
     "metadata": {},
     "output_type": "display_data"
    }
   ],
   "source": [
    "df.plot(kind='kde', y='height_in', legend=False)\n",
    "plt.title('Height in ins')\n",
    "plt.xlabel('Height (in)')\n",
    "plt.axvline(df.height_in.mean(), color='black')\n",
    "plt.axvline(df.height_in.median(), color='black', linestyle='--')"
   ]
  },
  {
   "cell_type": "markdown",
   "metadata": {},
   "source": [
    "#### 4) Calculate the mean, median, variance, minimum, and maximum values of BMI for each unique condition of biological sex and education completed—you’ll need to calculate BMI again using the formula provided in HW01 (if you saved your syntax you can copy and paste that). Summarize these values in a table. Comment on how these groups compare on these statistics."
   ]
  },
  {
   "cell_type": "code",
   "execution_count": 4,
   "metadata": {
    "collapsed": false
   },
   "outputs": [
    {
     "name": "stdout",
     "output_type": "stream",
     "text": [
      "                        mean     median       var        min        max\n",
      "biosex ed_cmplt                                                        \n",
      "FEMALE College2YR  23.013821  22.371433  3.908364  20.281319  25.973420\n",
      "       College4YR  22.838584  22.979353  5.056110  18.099274  27.748731\n",
      "       HS          22.728031  22.732402  8.640603  18.147567  26.777365\n",
      "       MA          22.091436  22.292065  6.016555  16.932930  26.235072\n",
      "       PhD         23.480749  24.045792  6.674042  17.626489  27.536907\n",
      "MALE   College2YR  22.419280  22.168032  5.757190  18.430776  30.227456\n",
      "       College4YR  22.038994  21.949803  2.498297  19.095423  24.799519\n",
      "       HS          23.106290  22.723011  6.514539  16.839152  28.096583\n",
      "       MA          23.206360  24.089050  5.899063  17.711650  26.195594\n",
      "       PhD         22.745859  22.467367  3.279681  18.260705  27.878717\n"
     ]
    }
   ],
   "source": [
    "df['bmi'] = df.apply(lambda x: (x['weight_lbs']/x['height_in']**2) * 703, axis=1)\n",
    "print(df.groupby(('biosex', 'ed_cmplt')).bmi.agg(['mean', 'median', 'var', 'min', 'max']))"
   ]
  },
  {
   "cell_type": "markdown",
   "metadata": {},
   "source": [
    "The values of these statistsics are different.\n",
    "\n",
    "#### 5) a. Identify the rows with the maximum and minimum BMI values. What are the row numbers and the maximum and minimum BMI values?"
   ]
  },
  {
   "cell_type": "code",
   "execution_count": 5,
   "metadata": {
    "collapsed": false
   },
   "outputs": [
    {
     "name": "stdout",
     "output_type": "stream",
     "text": [
      "Min: 62, Max: 71\n"
     ]
    }
   ],
   "source": [
    "# Note that R is 1 based and Python is 0 based\n",
    "print('Min: {}, Max: {}'.format(df.bmi.idxmax(), df.bmi.idxmin()))"
   ]
  },
  {
   "cell_type": "markdown",
   "metadata": {},
   "source": [
    "#### b. Standardize BMI values so that they have a mean of zero and standard deviation of one. Now identify the rows with the maximum and minimum standardized BMI values. What are the row numbers and what are the maximum and minimum standardized BMI values?"
   ]
  },
  {
   "cell_type": "code",
   "execution_count": 6,
   "metadata": {
    "collapsed": false
   },
   "outputs": [
    {
     "name": "stdout",
     "output_type": "stream",
     "text": [
      "Mean: -6.118138899651078e-16, STD: 0.9999999999999954\n",
      "Min: 62, Max: 71\n"
     ]
    }
   ],
   "source": [
    "df['standard_bmi'] = (df.bmi - df.bmi.mean()) / df.bmi.std()\n",
    "\n",
    "print('Mean: {}, STD: {}'.format(df.standard_bmi.mean(), df.standard_bmi.std()))\n",
    "\n",
    "# Note that R is 1 based and Python is 0 based\n",
    "print('Min: {}, Max: {}'.format(df.standard_bmi.idxmax(), df.standard_bmi.idxmin()))"
   ]
  },
  {
   "cell_type": "markdown",
   "metadata": {},
   "source": [
    "#### c. Standardize BMI values so that the mean is 100 and the standard deviation is 15. Identify the rows with the maximum and minimum standardized BMI values. What are the row numbers and what are the maximum and minimum standardized BMI values."
   ]
  },
  {
   "cell_type": "code",
   "execution_count": 7,
   "metadata": {
    "collapsed": false
   },
   "outputs": [
    {
     "name": "stdout",
     "output_type": "stream",
     "text": [
      "Mean: 100.0, STD: 14.999999999999867\n",
      "Min: 62, Max: 71\n"
     ]
    }
   ],
   "source": [
    "df['strange_bmi'] = 100 + (df.bmi - df.bmi.mean()) / (1/15 * df.bmi.std())\n",
    "\n",
    "print('Mean: {}, STD: {}'.format(df.strange_bmi.mean(), df.strange_bmi.std()))\n",
    "\n",
    "# Note that R is 1 based and Python is 0 based\n",
    "print('Min: {}, Max: {}'.format(df.strange_bmi.idxmax(), df.strange_bmi.idxmin()))"
   ]
  },
  {
   "cell_type": "markdown",
   "metadata": {},
   "source": [
    "#### d. What conclusions can you draw about linear transformations of data based on your answers to the preceding questions (i.e., 5a-5c)?\n",
    "\n",
    "Linear transformations of data will generally not change the location of the maximum and minimum value locations, but can allow for the manipulation of calculated aggregations, such as the mean and the standard deviation."
   ]
  }
 ],
 "metadata": {
  "kernelspec": {
   "display_name": "Python 3",
   "language": "python",
   "name": "python3"
  },
  "language_info": {
   "codemirror_mode": {
    "name": "ipython",
    "version": 3
   },
   "file_extension": ".py",
   "mimetype": "text/x-python",
   "name": "python",
   "nbconvert_exporter": "python",
   "pygments_lexer": "ipython3",
   "version": "3.5.0"
  }
 },
 "nbformat": 4,
 "nbformat_minor": 0
}
