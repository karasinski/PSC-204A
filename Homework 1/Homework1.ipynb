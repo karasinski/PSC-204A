{
 "cells": [
  {
   "cell_type": "markdown",
   "metadata": {},
   "source": [
    "### PSC 204a\tFall 2015\tHomework \\#1\n",
    "#### John Karasinski"
   ]
  },
  {
   "cell_type": "code",
   "execution_count": null,
   "metadata": {
    "collapsed": true
   },
   "outputs": [],
   "source": [
    "# Import the pandas module\n",
    "import pandas as pd\n",
    "\n",
    "\n",
    "# Read in the data\n",
    "df = pd.read_csv('HW01Data.csv')"
   ]
  },
  {
   "cell_type": "markdown",
   "metadata": {},
   "source": [
    "#### 1. What are the dimensions of the data set?"
   ]
  },
  {
   "cell_type": "code",
   "execution_count": null,
   "metadata": {
    "collapsed": false
   },
   "outputs": [],
   "source": [
    "df.shape"
   ]
  },
  {
   "cell_type": "markdown",
   "metadata": {},
   "source": [
    "#### 2. What data type (e.g., numeric, character, etc.) is in each column?"
   ]
  },
  {
   "cell_type": "code",
   "execution_count": null,
   "metadata": {
    "collapsed": false
   },
   "outputs": [],
   "source": [
    "df.dtypes"
   ]
  },
  {
   "cell_type": "markdown",
   "metadata": {},
   "source": [
    "#### 3. How many participants were female? How many were male?"
   ]
  },
  {
   "cell_type": "code",
   "execution_count": null,
   "metadata": {
    "collapsed": false
   },
   "outputs": [],
   "source": [
    "df.biosex.value_counts()"
   ]
  },
  {
   "cell_type": "markdown",
   "metadata": {},
   "source": [
    "#### 4. What is the frequency (tally) of education completed (e.g., HS and MA) in the data set? That is, for each level of educational attainment, how many participants were in that level?"
   ]
  },
  {
   "cell_type": "code",
   "execution_count": null,
   "metadata": {
    "collapsed": false
   },
   "outputs": [],
   "source": [
    "df.ed_cmplt.value_counts()"
   ]
  },
  {
   "cell_type": "markdown",
   "metadata": {},
   "source": [
    "#### 5. In this data set, how many males are taller than 72 in? What are their row numbers in the data set?"
   ]
  },
  {
   "cell_type": "code",
   "execution_count": null,
   "metadata": {
    "collapsed": false
   },
   "outputs": [],
   "source": [
    "# Since r is 1 based and Python is 0 based, the indexes will differ by 1\n",
    "index = df.query('height_in > 72').index\n",
    "print(len(index))\n",
    "print(index)"
   ]
  },
  {
   "cell_type": "markdown",
   "metadata": {},
   "source": [
    "#### 6. (a) What is the average age of participants based on their level of educational attainment? That is, what is the mean age of participants who had completed HS, 2 years of college, etc.? "
   ]
  },
  {
   "cell_type": "code",
   "execution_count": null,
   "metadata": {
    "collapsed": false
   },
   "outputs": [],
   "source": [
    "df.groupby('ed_cmplt').age_yr.mean()"
   ]
  },
  {
   "cell_type": "markdown",
   "metadata": {},
   "source": [
    "#### (b) What is the average age of participants based on their level of educational attainment and their biological sex? That is, what is the mean age of females who had completed HS, 2 years of college, etc., and the mean age of males who had completed HS, 2 years of college, etc. I recommend tabling your results."
   ]
  },
  {
   "cell_type": "code",
   "execution_count": null,
   "metadata": {
    "collapsed": false
   },
   "outputs": [],
   "source": [
    "df.groupby(('biosex', 'ed_cmplt')).age_yr.mean()"
   ]
  },
  {
   "cell_type": "markdown",
   "metadata": {},
   "source": [
    "#### 7. The formula for BMI is as follows:\n",
    "\n",
    "\t{Weight (lbs) / [Height (in) * Height (in)]} * 703\n",
    "\n",
    "#### (a) Create a new variable in the data frame called “bmi.” Calculate the BMI for the participants and place these values in the “bmi” column of the data frame. "
   ]
  },
  {
   "cell_type": "code",
   "execution_count": null,
   "metadata": {
    "collapsed": false
   },
   "outputs": [],
   "source": [
    "df['bmi'] = df.apply(lambda x: (x['weight_lbs']/x['height_in']**2) * 703, axis=1)"
   ]
  },
  {
   "cell_type": "markdown",
   "metadata": {},
   "source": [
    "#### (b) Calculate the average BMI for men and for women. "
   ]
  },
  {
   "cell_type": "code",
   "execution_count": null,
   "metadata": {
    "collapsed": false
   },
   "outputs": [],
   "source": [
    "df.groupby('biosex').bmi.mean()"
   ]
  },
  {
   "cell_type": "markdown",
   "metadata": {},
   "source": [
    "#### (c) The Centers for Disease Control (CDC) reports that persons with a BMI below 18.5 are underweight, with a BMI from 18.5 to 24.9 are normal or healthy weight, with a BMI from 25 to 29.9 are overweight, and with a BMI of 30 and above are obese. How many men fall into each weight status category? How many women fall into each weight status category? I recommend tabling your results."
   ]
  },
  {
   "cell_type": "code",
   "execution_count": null,
   "metadata": {
    "collapsed": false
   },
   "outputs": [],
   "source": [
    "def bmi_category(bmi):\n",
    "    if bmi < 18.5:\n",
    "        category = 'underweight'\n",
    "    elif bmi <= 24.9:\n",
    "        category = 'normal'\n",
    "    elif bmi <= 29.9:\n",
    "        category = 'overweight'\n",
    "    else:\n",
    "        category = 'obese'\n",
    "\n",
    "    return category\n",
    "\n",
    "df['weight_status'] = df.bmi.apply(bmi_category)\n",
    "df.groupby('biosex').weight_status.value_counts()"
   ]
  }
 ],
 "metadata": {
  "kernelspec": {
   "display_name": "Python 3",
   "language": "python",
   "name": "python3"
  },
  "language_info": {
   "codemirror_mode": {
    "name": "ipython",
    "version": 3
   },
   "file_extension": ".py",
   "mimetype": "text/x-python",
   "name": "python",
   "nbconvert_exporter": "python",
   "pygments_lexer": "ipython3",
   "version": "3.5.0"
  }
 },
 "nbformat": 4,
 "nbformat_minor": 0
}
