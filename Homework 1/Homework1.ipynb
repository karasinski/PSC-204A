{
 "cells": [
  {
   "cell_type": "markdown",
   "metadata": {},
   "source": [
    "### PSC 204a\tFall 2015\tHomework \\#1\n",
    "#### John Karasinski"
   ]
  },
  {
   "cell_type": "code",
   "execution_count": 1,
   "metadata": {
    "collapsed": true
   },
   "outputs": [],
   "source": [
    "# Import the pandas module\n",
    "import pandas as pd\n",
    "\n",
    "# Read in the data\n",
    "df = pd.read_csv('HW01Data.csv')"
   ]
  },
  {
   "cell_type": "markdown",
   "metadata": {},
   "source": [
    "#### 1. What are the dimensions of the data set?"
   ]
  },
  {
   "cell_type": "code",
   "execution_count": 2,
   "metadata": {
    "collapsed": false
   },
   "outputs": [
    {
     "name": "stdout",
     "output_type": "stream",
     "text": [
      "The data set has 233 rows and 5 columns.\n"
     ]
    }
   ],
   "source": [
    "print('The data set has {0[0]} rows and {0[1]} columns.'.format(df.shape))"
   ]
  },
  {
   "cell_type": "markdown",
   "metadata": {},
   "source": [
    "#### 2. What data type (e.g., numeric, character, etc.) is in each column?"
   ]
  },
  {
   "cell_type": "code",
   "execution_count": 3,
   "metadata": {
    "collapsed": false
   },
   "outputs": [
    {
     "data": {
      "text/plain": [
       "biosex         object\n",
       "height_in     float64\n",
       "weight_lbs    float64\n",
       "age_yr        float64\n",
       "ed_cmplt       object\n",
       "dtype: object"
      ]
     },
     "execution_count": 3,
     "metadata": {},
     "output_type": "execute_result"
    }
   ],
   "source": [
    "df.dtypes"
   ]
  },
  {
   "cell_type": "markdown",
   "metadata": {},
   "source": [
    "The $\\mbox{biosex}$ and $\\mbox{ed_cmplt}$ columns are strings, and the $\\mbox{height_in}$, $\\mbox{weight_lbs}$, and $\\mbox{age_yr}$ columns are floats.\n",
    "\n",
    "#### 3. How many participants were female? How many were male?"
   ]
  },
  {
   "cell_type": "code",
   "execution_count": 4,
   "metadata": {
    "collapsed": false
   },
   "outputs": [
    {
     "data": {
      "text/plain": [
       "FEMALE    119\n",
       "MALE      114\n",
       "dtype: int64"
      ]
     },
     "execution_count": 4,
     "metadata": {},
     "output_type": "execute_result"
    }
   ],
   "source": [
    "df.biosex.value_counts()"
   ]
  },
  {
   "cell_type": "markdown",
   "metadata": {},
   "source": [
    "#### 4. What is the frequency (tally) of education completed (e.g., HS and MA) in the data set? That is, for each level of educational attainment, how many participants were in that level?"
   ]
  },
  {
   "cell_type": "code",
   "execution_count": 5,
   "metadata": {
    "collapsed": false
   },
   "outputs": [
    {
     "data": {
      "text/plain": [
       "MA            55\n",
       "College4YR    51\n",
       "College2YR    51\n",
       "HS            39\n",
       "PhD           37\n",
       "dtype: int64"
      ]
     },
     "execution_count": 5,
     "metadata": {},
     "output_type": "execute_result"
    }
   ],
   "source": [
    "df.ed_cmplt.value_counts()"
   ]
  },
  {
   "cell_type": "markdown",
   "metadata": {},
   "source": [
    "#### 5. In this data set, how many males are taller than 72 in? What are their row numbers in the data set?"
   ]
  },
  {
   "cell_type": "code",
   "execution_count": 6,
   "metadata": {
    "collapsed": false
   },
   "outputs": [
    {
     "name": "stdout",
     "output_type": "stream",
     "text": [
      "There are 6 males taller than 72 in.\n",
      "Their row numbers are [0, 71, 151, 202, 215, 221].\n"
     ]
    }
   ],
   "source": [
    "# Since R is 1 based and Python is 0 based, the indexes will differ by 1\n",
    "index = df.query('height_in > 72').index.tolist()\n",
    "print('There are {} males taller than 72 in.'.format(len(index)))\n",
    "print('Their row numbers are {}.'.format(index))"
   ]
  },
  {
   "cell_type": "markdown",
   "metadata": {},
   "source": [
    "#### 6. (a) What is the average age of participants based on their level of educational attainment? That is, what is the mean age of participants who had completed HS, 2 years of college, etc.? "
   ]
  },
  {
   "cell_type": "code",
   "execution_count": 7,
   "metadata": {
    "collapsed": false
   },
   "outputs": [
    {
     "data": {
      "text/plain": [
       "ed_cmplt\n",
       "College2YR    20.011765\n",
       "College4YR    23.141176\n",
       "HS            24.802564\n",
       "MA            25.101818\n",
       "PhD           29.837838\n",
       "Name: age_yr, dtype: float64"
      ]
     },
     "execution_count": 7,
     "metadata": {},
     "output_type": "execute_result"
    }
   ],
   "source": [
    "df.groupby('ed_cmplt').age_yr.mean()"
   ]
  },
  {
   "cell_type": "markdown",
   "metadata": {},
   "source": [
    "#### (b) What is the average age of participants based on their level of educational attainment and their biological sex? That is, what is the mean age of females who had completed HS, 2 years of college, etc., and the mean age of males who had completed HS, 2 years of college, etc. I recommend tabling your results."
   ]
  },
  {
   "cell_type": "code",
   "execution_count": 8,
   "metadata": {
    "collapsed": false
   },
   "outputs": [
    {
     "data": {
      "text/plain": [
       "biosex  ed_cmplt  \n",
       "FEMALE  College2YR    19.978947\n",
       "        College4YR    23.083784\n",
       "        HS            25.633333\n",
       "        MA            25.064865\n",
       "        PhD           30.017647\n",
       "MALE    College2YR    20.031250\n",
       "        College4YR    23.292857\n",
       "        HS            24.553333\n",
       "        MA            25.177778\n",
       "        PhD           29.685000\n",
       "Name: age_yr, dtype: float64"
      ]
     },
     "execution_count": 8,
     "metadata": {},
     "output_type": "execute_result"
    }
   ],
   "source": [
    "df.groupby(('biosex', 'ed_cmplt')).age_yr.mean()"
   ]
  },
  {
   "cell_type": "markdown",
   "metadata": {},
   "source": [
    "#### 7. The formula for BMI is as follows:\n",
    "\n",
    "\t{Weight (lbs) / [Height (in) * Height (in)]} * 703\n",
    "\n",
    "#### (a) Create a new variable in the data frame called “bmi.” Calculate the BMI for the participants and place these values in the “bmi” column of the data frame. "
   ]
  },
  {
   "cell_type": "code",
   "execution_count": 9,
   "metadata": {
    "collapsed": false
   },
   "outputs": [],
   "source": [
    "df['bmi'] = df.apply(lambda x: (x['weight_lbs']/x['height_in']**2) * 703, axis=1)"
   ]
  },
  {
   "cell_type": "markdown",
   "metadata": {},
   "source": [
    "#### (b) Calculate the average BMI for men and for women. "
   ]
  },
  {
   "cell_type": "code",
   "execution_count": 10,
   "metadata": {
    "collapsed": false
   },
   "outputs": [
    {
     "data": {
      "text/plain": [
       "biosex\n",
       "FEMALE    22.717633\n",
       "MALE      22.734941\n",
       "Name: bmi, dtype: float64"
      ]
     },
     "execution_count": 10,
     "metadata": {},
     "output_type": "execute_result"
    }
   ],
   "source": [
    "df.groupby('biosex').bmi.mean()"
   ]
  },
  {
   "cell_type": "markdown",
   "metadata": {},
   "source": [
    "#### (c) The Centers for Disease Control (CDC) reports that persons with a BMI below 18.5 are underweight, with a BMI from 18.5 to 24.9 are normal or healthy weight, with a BMI from 25 to 29.9 are overweight, and with a BMI of 30 and above are obese. How many men fall into each weight status category? How many women fall into each weight status category? I recommend tabling your results."
   ]
  },
  {
   "cell_type": "code",
   "execution_count": 11,
   "metadata": {
    "collapsed": false
   },
   "outputs": [
    {
     "data": {
      "text/plain": [
       "biosex             \n",
       "FEMALE  normal         92\n",
       "        overweight     22\n",
       "        underweight     5\n",
       "MALE    normal         94\n",
       "        overweight     15\n",
       "        underweight     4\n",
       "        obese           1\n",
       "dtype: int64"
      ]
     },
     "execution_count": 11,
     "metadata": {},
     "output_type": "execute_result"
    }
   ],
   "source": [
    "def bmi_category(bmi):\n",
    "    if bmi < 18.5:\n",
    "        category = 'underweight'\n",
    "    elif bmi <= 24.9:\n",
    "        category = 'normal'\n",
    "    elif bmi <= 29.9:\n",
    "        category = 'overweight'\n",
    "    else:\n",
    "        category = 'obese'\n",
    "\n",
    "    return category\n",
    "\n",
    "# Round bmi to 1 decimal place and categorize\n",
    "df['weight_status'] = df.bmi.round(decimals=1).apply(bmi_category)\n",
    "\n",
    "# Count how many of each gender fall into each weight status category\n",
    "df.groupby('biosex').weight_status.value_counts()"
   ]
  }
 ],
 "metadata": {
  "kernelspec": {
   "display_name": "Python 3",
   "language": "python",
   "name": "python3"
  },
  "language_info": {
   "codemirror_mode": {
    "name": "ipython",
    "version": 3
   },
   "file_extension": ".py",
   "mimetype": "text/x-python",
   "name": "python",
   "nbconvert_exporter": "python",
   "pygments_lexer": "ipython3",
   "version": "3.5.0"
  }
 },
 "nbformat": 4,
 "nbformat_minor": 0
}
